{
 "cells": [
  {
   "cell_type": "code",
   "execution_count": 2,
   "metadata": {
    "collapsed": false
   },
   "outputs": [],
   "source": [
    "import numpy as np\n",
    "import pandas as pd\n",
    "import matplotlib.pyplot as plt\n",
    "%matplotlib inline"
   ]
  },
  {
   "cell_type": "code",
   "execution_count": 3,
   "metadata": {
    "collapsed": true
   },
   "outputs": [],
   "source": [
    "df = pd.read_csv('pollution_us_2000_2016.csv')"
   ]
  },
  {
   "cell_type": "code",
   "execution_count": 54,
   "metadata": {
    "collapsed": false
   },
   "outputs": [],
   "source": [
    "phoenix=df[df.City == 'Phoenix']"
   ]
  },
  {
   "cell_type": "code",
   "execution_count": 55,
   "metadata": {
    "collapsed": false
   },
   "outputs": [
    {
     "data": {
      "text/plain": [
       "Unnamed: 0             int64\n",
       "State Code             int64\n",
       "County Code            int64\n",
       "Site Num               int64\n",
       "Address               object\n",
       "State                 object\n",
       "County                object\n",
       "City                  object\n",
       "Date Local            object\n",
       "NO2 Units             object\n",
       "NO2 Mean             float64\n",
       "NO2 1st Max Value    float64\n",
       "NO2 1st Max Hour       int64\n",
       "NO2 AQI                int64\n",
       "O3 Units              object\n",
       "O3 Mean              float64\n",
       "O3 1st Max Value     float64\n",
       "O3 1st Max Hour        int64\n",
       "O3 AQI                 int64\n",
       "SO2 Units             object\n",
       "SO2 Mean             float64\n",
       "SO2 1st Max Value    float64\n",
       "SO2 1st Max Hour       int64\n",
       "SO2 AQI              float64\n",
       "CO Units              object\n",
       "CO Mean              float64\n",
       "CO 1st Max Value     float64\n",
       "CO 1st Max Hour        int64\n",
       "CO AQI               float64\n",
       "dtype: object"
      ]
     },
     "execution_count": 55,
     "metadata": {},
     "output_type": "execute_result"
    }
   ],
   "source": [
    "## measure in parts per billion\n",
    "phoenix.dtypes"
   ]
  },
  {
   "cell_type": "code",
   "execution_count": 56,
   "metadata": {
    "collapsed": false
   },
   "outputs": [],
   "source": [
    "col_to_delete = ['Unnamed: 0', 'NO2 Units', 'SO2 Units', 'CO Units']\n",
    "for i in col_to_delete:\n",
    "    del phoenix[i]\n",
    "# del phoenix['State']"
   ]
  },
  {
   "cell_type": "code",
   "execution_count": 57,
   "metadata": {
    "collapsed": false
   },
   "outputs": [
    {
     "data": {
      "text/html": [
       "<div>\n",
       "<table border=\"1\" class=\"dataframe\">\n",
       "  <thead>\n",
       "    <tr style=\"text-align: right;\">\n",
       "      <th></th>\n",
       "      <th>State Code</th>\n",
       "      <th>County Code</th>\n",
       "      <th>Site Num</th>\n",
       "      <th>Address</th>\n",
       "      <th>State</th>\n",
       "      <th>County</th>\n",
       "      <th>City</th>\n",
       "      <th>Date Local</th>\n",
       "      <th>NO2 Mean</th>\n",
       "      <th>NO2 1st Max Value</th>\n",
       "      <th>...</th>\n",
       "      <th>O3 1st Max Hour</th>\n",
       "      <th>O3 AQI</th>\n",
       "      <th>SO2 Mean</th>\n",
       "      <th>SO2 1st Max Value</th>\n",
       "      <th>SO2 1st Max Hour</th>\n",
       "      <th>SO2 AQI</th>\n",
       "      <th>CO Mean</th>\n",
       "      <th>CO 1st Max Value</th>\n",
       "      <th>CO 1st Max Hour</th>\n",
       "      <th>CO AQI</th>\n",
       "    </tr>\n",
       "  </thead>\n",
       "  <tbody>\n",
       "    <tr>\n",
       "      <th>0</th>\n",
       "      <td>4</td>\n",
       "      <td>13</td>\n",
       "      <td>3002</td>\n",
       "      <td>1645 E ROOSEVELT ST-CENTRAL PHOENIX STN</td>\n",
       "      <td>Arizona</td>\n",
       "      <td>Maricopa</td>\n",
       "      <td>Phoenix</td>\n",
       "      <td>2000-01-01</td>\n",
       "      <td>19.041667</td>\n",
       "      <td>49.0</td>\n",
       "      <td>...</td>\n",
       "      <td>10</td>\n",
       "      <td>34</td>\n",
       "      <td>3.0</td>\n",
       "      <td>9.0</td>\n",
       "      <td>21</td>\n",
       "      <td>13.0</td>\n",
       "      <td>1.145833</td>\n",
       "      <td>4.2</td>\n",
       "      <td>21</td>\n",
       "      <td>NaN</td>\n",
       "    </tr>\n",
       "    <tr>\n",
       "      <th>1</th>\n",
       "      <td>4</td>\n",
       "      <td>13</td>\n",
       "      <td>3002</td>\n",
       "      <td>1645 E ROOSEVELT ST-CENTRAL PHOENIX STN</td>\n",
       "      <td>Arizona</td>\n",
       "      <td>Maricopa</td>\n",
       "      <td>Phoenix</td>\n",
       "      <td>2000-01-01</td>\n",
       "      <td>19.041667</td>\n",
       "      <td>49.0</td>\n",
       "      <td>...</td>\n",
       "      <td>10</td>\n",
       "      <td>34</td>\n",
       "      <td>3.0</td>\n",
       "      <td>9.0</td>\n",
       "      <td>21</td>\n",
       "      <td>13.0</td>\n",
       "      <td>0.878947</td>\n",
       "      <td>2.2</td>\n",
       "      <td>23</td>\n",
       "      <td>25.0</td>\n",
       "    </tr>\n",
       "  </tbody>\n",
       "</table>\n",
       "<p>2 rows × 25 columns</p>\n",
       "</div>"
      ],
      "text/plain": [
       "   State Code  County Code  Site Num                                  Address  \\\n",
       "0           4           13      3002  1645 E ROOSEVELT ST-CENTRAL PHOENIX STN   \n",
       "1           4           13      3002  1645 E ROOSEVELT ST-CENTRAL PHOENIX STN   \n",
       "\n",
       "     State    County     City  Date Local   NO2 Mean  NO2 1st Max Value  \\\n",
       "0  Arizona  Maricopa  Phoenix  2000-01-01  19.041667               49.0   \n",
       "1  Arizona  Maricopa  Phoenix  2000-01-01  19.041667               49.0   \n",
       "\n",
       "    ...    O3 1st Max Hour  O3 AQI SO2 Mean  SO2 1st Max Value  \\\n",
       "0   ...                 10      34      3.0                9.0   \n",
       "1   ...                 10      34      3.0                9.0   \n",
       "\n",
       "   SO2 1st Max Hour  SO2 AQI   CO Mean  CO 1st Max Value  CO 1st Max Hour  \\\n",
       "0                21     13.0  1.145833               4.2               21   \n",
       "1                21     13.0  0.878947               2.2               23   \n",
       "\n",
       "   CO AQI  \n",
       "0     NaN  \n",
       "1    25.0  \n",
       "\n",
       "[2 rows x 25 columns]"
      ]
     },
     "execution_count": 57,
     "metadata": {},
     "output_type": "execute_result"
    }
   ],
   "source": [
    "phoenix.head(2)"
   ]
  },
  {
   "cell_type": "code",
   "execution_count": 58,
   "metadata": {
    "collapsed": false
   },
   "outputs": [
    {
     "name": "stderr",
     "output_type": "stream",
     "text": [
      "C:\\Users\\Ryan\\AppData\\Local\\Continuum\\Miniconda3\\lib\\site-packages\\ipykernel\\__main__.py:2: SettingWithCopyWarning: \n",
      "A value is trying to be set on a copy of a slice from a DataFrame.\n",
      "Try using .loc[row_indexer,col_indexer] = value instead\n",
      "\n",
      "See the caveats in the documentation: http://pandas.pydata.org/pandas-docs/stable/indexing.html#indexing-view-versus-copy\n",
      "  from ipykernel import kernelapp as app\n"
     ]
    }
   ],
   "source": [
    "# from datetime import datetime\n",
    "phoenix['Date']=pd.to_datetime(phoenix['Date Local'], infer_datetime_format=True)\n",
    "# phoenix['Date Local'][0]"
   ]
  },
  {
   "cell_type": "code",
   "execution_count": 60,
   "metadata": {
    "collapsed": false
   },
   "outputs": [],
   "source": [
    "del phoenix['Date Local']"
   ]
  },
  {
   "cell_type": "code",
   "execution_count": 61,
   "metadata": {
    "collapsed": false
   },
   "outputs": [
    {
     "name": "stderr",
     "output_type": "stream",
     "text": [
      "C:\\Users\\Ryan\\AppData\\Local\\Continuum\\Miniconda3\\lib\\site-packages\\numpy\\lib\\function_base.py:3834: RuntimeWarning: Invalid value encountered in percentile\n",
      "  RuntimeWarning)\n"
     ]
    },
    {
     "data": {
      "text/html": [
       "<div>\n",
       "<table border=\"1\" class=\"dataframe\">\n",
       "  <thead>\n",
       "    <tr style=\"text-align: right;\">\n",
       "      <th></th>\n",
       "      <th>State Code</th>\n",
       "      <th>County Code</th>\n",
       "      <th>Site Num</th>\n",
       "      <th>NO2 Mean</th>\n",
       "      <th>NO2 1st Max Value</th>\n",
       "      <th>NO2 1st Max Hour</th>\n",
       "      <th>NO2 AQI</th>\n",
       "      <th>O3 Mean</th>\n",
       "      <th>O3 1st Max Value</th>\n",
       "      <th>O3 1st Max Hour</th>\n",
       "      <th>O3 AQI</th>\n",
       "      <th>SO2 Mean</th>\n",
       "      <th>SO2 1st Max Value</th>\n",
       "      <th>SO2 1st Max Hour</th>\n",
       "      <th>SO2 AQI</th>\n",
       "      <th>CO Mean</th>\n",
       "      <th>CO 1st Max Value</th>\n",
       "      <th>CO 1st Max Hour</th>\n",
       "      <th>CO AQI</th>\n",
       "    </tr>\n",
       "  </thead>\n",
       "  <tbody>\n",
       "    <tr>\n",
       "      <th>count</th>\n",
       "      <td>37912.0</td>\n",
       "      <td>37912.0</td>\n",
       "      <td>37912.000000</td>\n",
       "      <td>37912.000000</td>\n",
       "      <td>37912.000000</td>\n",
       "      <td>37912.000000</td>\n",
       "      <td>37912.000000</td>\n",
       "      <td>37912.000000</td>\n",
       "      <td>37912.000000</td>\n",
       "      <td>37912.000000</td>\n",
       "      <td>37912.000000</td>\n",
       "      <td>37912.000000</td>\n",
       "      <td>37912.000000</td>\n",
       "      <td>37912.000000</td>\n",
       "      <td>18959.000000</td>\n",
       "      <td>37912.000000</td>\n",
       "      <td>37912.000000</td>\n",
       "      <td>37912.000000</td>\n",
       "      <td>18955.000000</td>\n",
       "    </tr>\n",
       "    <tr>\n",
       "      <th>mean</th>\n",
       "      <td>4.0</td>\n",
       "      <td>13.0</td>\n",
       "      <td>5833.063516</td>\n",
       "      <td>21.538031</td>\n",
       "      <td>42.095769</td>\n",
       "      <td>13.758493</td>\n",
       "      <td>39.841950</td>\n",
       "      <td>0.024840</td>\n",
       "      <td>0.044394</td>\n",
       "      <td>10.301066</td>\n",
       "      <td>41.119540</td>\n",
       "      <td>1.713963</td>\n",
       "      <td>3.223499</td>\n",
       "      <td>9.937223</td>\n",
       "      <td>4.935862</td>\n",
       "      <td>0.582136</td>\n",
       "      <td>1.173412</td>\n",
       "      <td>9.659817</td>\n",
       "      <td>11.048272</td>\n",
       "    </tr>\n",
       "    <tr>\n",
       "      <th>std</th>\n",
       "      <td>0.0</td>\n",
       "      <td>0.0</td>\n",
       "      <td>3433.464666</td>\n",
       "      <td>9.818808</td>\n",
       "      <td>14.101936</td>\n",
       "      <td>8.477283</td>\n",
       "      <td>13.594571</td>\n",
       "      <td>0.011488</td>\n",
       "      <td>0.015062</td>\n",
       "      <td>1.887596</td>\n",
       "      <td>18.750698</td>\n",
       "      <td>1.268840</td>\n",
       "      <td>2.642570</td>\n",
       "      <td>8.279221</td>\n",
       "      <td>4.266655</td>\n",
       "      <td>0.388580</td>\n",
       "      <td>0.887116</td>\n",
       "      <td>9.070729</td>\n",
       "      <td>7.889808</td>\n",
       "    </tr>\n",
       "    <tr>\n",
       "      <th>min</th>\n",
       "      <td>4.0</td>\n",
       "      <td>13.0</td>\n",
       "      <td>3002.000000</td>\n",
       "      <td>0.000000</td>\n",
       "      <td>0.000000</td>\n",
       "      <td>0.000000</td>\n",
       "      <td>0.000000</td>\n",
       "      <td>0.000500</td>\n",
       "      <td>0.001000</td>\n",
       "      <td>0.000000</td>\n",
       "      <td>1.000000</td>\n",
       "      <td>0.000000</td>\n",
       "      <td>0.000000</td>\n",
       "      <td>0.000000</td>\n",
       "      <td>0.000000</td>\n",
       "      <td>0.000000</td>\n",
       "      <td>0.000000</td>\n",
       "      <td>0.000000</td>\n",
       "      <td>0.000000</td>\n",
       "    </tr>\n",
       "    <tr>\n",
       "      <th>25%</th>\n",
       "      <td>4.0</td>\n",
       "      <td>13.0</td>\n",
       "      <td>3002.000000</td>\n",
       "      <td>13.916667</td>\n",
       "      <td>33.500000</td>\n",
       "      <td>6.000000</td>\n",
       "      <td>31.000000</td>\n",
       "      <td>0.015458</td>\n",
       "      <td>0.034000</td>\n",
       "      <td>10.000000</td>\n",
       "      <td>30.000000</td>\n",
       "      <td>0.904496</td>\n",
       "      <td>1.600000</td>\n",
       "      <td>2.000000</td>\n",
       "      <td>NaN</td>\n",
       "      <td>0.316667</td>\n",
       "      <td>0.500000</td>\n",
       "      <td>1.000000</td>\n",
       "      <td>NaN</td>\n",
       "    </tr>\n",
       "    <tr>\n",
       "      <th>50%</th>\n",
       "      <td>4.0</td>\n",
       "      <td>13.0</td>\n",
       "      <td>3002.000000</td>\n",
       "      <td>21.083333</td>\n",
       "      <td>43.000000</td>\n",
       "      <td>19.000000</td>\n",
       "      <td>41.000000</td>\n",
       "      <td>0.024792</td>\n",
       "      <td>0.046000</td>\n",
       "      <td>10.000000</td>\n",
       "      <td>40.000000</td>\n",
       "      <td>1.450000</td>\n",
       "      <td>2.600000</td>\n",
       "      <td>8.000000</td>\n",
       "      <td>NaN</td>\n",
       "      <td>0.475000</td>\n",
       "      <td>0.900000</td>\n",
       "      <td>6.000000</td>\n",
       "      <td>NaN</td>\n",
       "    </tr>\n",
       "    <tr>\n",
       "      <th>75%</th>\n",
       "      <td>4.0</td>\n",
       "      <td>13.0</td>\n",
       "      <td>9997.000000</td>\n",
       "      <td>28.375000</td>\n",
       "      <td>51.000000</td>\n",
       "      <td>21.000000</td>\n",
       "      <td>48.000000</td>\n",
       "      <td>0.033333</td>\n",
       "      <td>0.055000</td>\n",
       "      <td>11.000000</td>\n",
       "      <td>47.000000</td>\n",
       "      <td>2.275000</td>\n",
       "      <td>4.000000</td>\n",
       "      <td>20.000000</td>\n",
       "      <td>NaN</td>\n",
       "      <td>0.745833</td>\n",
       "      <td>1.500000</td>\n",
       "      <td>21.000000</td>\n",
       "      <td>NaN</td>\n",
       "    </tr>\n",
       "    <tr>\n",
       "      <th>max</th>\n",
       "      <td>4.0</td>\n",
       "      <td>13.0</td>\n",
       "      <td>9997.000000</td>\n",
       "      <td>73.285714</td>\n",
       "      <td>124.000000</td>\n",
       "      <td>23.000000</td>\n",
       "      <td>105.000000</td>\n",
       "      <td>0.063167</td>\n",
       "      <td>0.089000</td>\n",
       "      <td>23.000000</td>\n",
       "      <td>147.000000</td>\n",
       "      <td>12.166667</td>\n",
       "      <td>69.000000</td>\n",
       "      <td>23.000000</td>\n",
       "      <td>92.000000</td>\n",
       "      <td>3.575000</td>\n",
       "      <td>8.100000</td>\n",
       "      <td>23.000000</td>\n",
       "      <td>59.000000</td>\n",
       "    </tr>\n",
       "  </tbody>\n",
       "</table>\n",
       "</div>"
      ],
      "text/plain": [
       "       State Code  County Code      Site Num      NO2 Mean  NO2 1st Max Value  \\\n",
       "count     37912.0      37912.0  37912.000000  37912.000000       37912.000000   \n",
       "mean          4.0         13.0   5833.063516     21.538031          42.095769   \n",
       "std           0.0          0.0   3433.464666      9.818808          14.101936   \n",
       "min           4.0         13.0   3002.000000      0.000000           0.000000   \n",
       "25%           4.0         13.0   3002.000000     13.916667          33.500000   \n",
       "50%           4.0         13.0   3002.000000     21.083333          43.000000   \n",
       "75%           4.0         13.0   9997.000000     28.375000          51.000000   \n",
       "max           4.0         13.0   9997.000000     73.285714         124.000000   \n",
       "\n",
       "       NO2 1st Max Hour       NO2 AQI       O3 Mean  O3 1st Max Value  \\\n",
       "count      37912.000000  37912.000000  37912.000000      37912.000000   \n",
       "mean          13.758493     39.841950      0.024840          0.044394   \n",
       "std            8.477283     13.594571      0.011488          0.015062   \n",
       "min            0.000000      0.000000      0.000500          0.001000   \n",
       "25%            6.000000     31.000000      0.015458          0.034000   \n",
       "50%           19.000000     41.000000      0.024792          0.046000   \n",
       "75%           21.000000     48.000000      0.033333          0.055000   \n",
       "max           23.000000    105.000000      0.063167          0.089000   \n",
       "\n",
       "       O3 1st Max Hour        O3 AQI      SO2 Mean  SO2 1st Max Value  \\\n",
       "count     37912.000000  37912.000000  37912.000000       37912.000000   \n",
       "mean         10.301066     41.119540      1.713963           3.223499   \n",
       "std           1.887596     18.750698      1.268840           2.642570   \n",
       "min           0.000000      1.000000      0.000000           0.000000   \n",
       "25%          10.000000     30.000000      0.904496           1.600000   \n",
       "50%          10.000000     40.000000      1.450000           2.600000   \n",
       "75%          11.000000     47.000000      2.275000           4.000000   \n",
       "max          23.000000    147.000000     12.166667          69.000000   \n",
       "\n",
       "       SO2 1st Max Hour       SO2 AQI       CO Mean  CO 1st Max Value  \\\n",
       "count      37912.000000  18959.000000  37912.000000      37912.000000   \n",
       "mean           9.937223      4.935862      0.582136          1.173412   \n",
       "std            8.279221      4.266655      0.388580          0.887116   \n",
       "min            0.000000      0.000000      0.000000          0.000000   \n",
       "25%            2.000000           NaN      0.316667          0.500000   \n",
       "50%            8.000000           NaN      0.475000          0.900000   \n",
       "75%           20.000000           NaN      0.745833          1.500000   \n",
       "max           23.000000     92.000000      3.575000          8.100000   \n",
       "\n",
       "       CO 1st Max Hour        CO AQI  \n",
       "count     37912.000000  18955.000000  \n",
       "mean          9.659817     11.048272  \n",
       "std           9.070729      7.889808  \n",
       "min           0.000000      0.000000  \n",
       "25%           1.000000           NaN  \n",
       "50%           6.000000           NaN  \n",
       "75%          21.000000           NaN  \n",
       "max          23.000000     59.000000  "
      ]
     },
     "execution_count": 61,
     "metadata": {},
     "output_type": "execute_result"
    }
   ],
   "source": [
    "phoenix.describe()"
   ]
  },
  {
   "cell_type": "code",
   "execution_count": 85,
   "metadata": {
    "collapsed": false
   },
   "outputs": [
    {
     "ename": "TypeError",
     "evalue": "'int' object is not subscriptable",
     "output_type": "error",
     "traceback": [
      "\u001b[1;31m---------------------------------------------------------------------------\u001b[0m",
      "\u001b[1;31mTypeError\u001b[0m                                 Traceback (most recent call last)",
      "\u001b[1;32m<ipython-input-85-81f8d9bed0a8>\u001b[0m in \u001b[0;36m<module>\u001b[1;34m()\u001b[0m\n\u001b[0;32m      1\u001b[0m \u001b[0myears\u001b[0m \u001b[1;33m=\u001b[0m \u001b[0mnp\u001b[0m\u001b[1;33m.\u001b[0m\u001b[0marray\u001b[0m\u001b[1;33m(\u001b[0m\u001b[1;33m[\u001b[0m\u001b[0mi\u001b[0m\u001b[1;33m.\u001b[0m\u001b[0myear\u001b[0m \u001b[1;32mfor\u001b[0m \u001b[0mi\u001b[0m \u001b[1;32min\u001b[0m \u001b[0mphoenix\u001b[0m\u001b[1;33m.\u001b[0m\u001b[0mDate\u001b[0m\u001b[1;33m]\u001b[0m\u001b[1;33m)\u001b[0m\u001b[1;33m\u001b[0m\u001b[0m\n\u001b[1;32m----> 2\u001b[1;33m \u001b[0mmonths\u001b[0m \u001b[1;33m=\u001b[0m \u001b[0mnp\u001b[0m\u001b[1;33m.\u001b[0m\u001b[0marray\u001b[0m\u001b[1;33m(\u001b[0m\u001b[1;33m[\u001b[0m\u001b[0mord\u001b[0m\u001b[1;33m(\u001b[0m\u001b[0mi\u001b[0m\u001b[1;33m.\u001b[0m\u001b[0mmonth\u001b[0m\u001b[1;33m[\u001b[0m\u001b[1;36m0\u001b[0m\u001b[1;33m]\u001b[0m\u001b[1;33m)\u001b[0m \u001b[1;32mfor\u001b[0m \u001b[0mi\u001b[0m \u001b[1;32min\u001b[0m \u001b[0mphoenix\u001b[0m\u001b[1;33m.\u001b[0m\u001b[0mDate\u001b[0m\u001b[1;33m]\u001b[0m\u001b[1;33m)\u001b[0m\u001b[1;33m\u001b[0m\u001b[0m\n\u001b[0m\u001b[0;32m      3\u001b[0m \u001b[1;33m\u001b[0m\u001b[0m\n\u001b[0;32m      4\u001b[0m \u001b[0mplt\u001b[0m\u001b[1;33m.\u001b[0m\u001b[0mscatter\u001b[0m\u001b[1;33m(\u001b[0m\u001b[0myears\u001b[0m\u001b[1;33m,\u001b[0m \u001b[0mphoenix\u001b[0m\u001b[1;33m[\u001b[0m\u001b[1;34m'NO2 Mean'\u001b[0m\u001b[1;33m]\u001b[0m\u001b[1;33m,\u001b[0m \u001b[0mcolor\u001b[0m \u001b[1;33m=\u001b[0m \u001b[0mmonths\u001b[0m\u001b[1;33m)\u001b[0m\u001b[1;33m\u001b[0m\u001b[0m\n\u001b[0;32m      5\u001b[0m \u001b[0mplt\u001b[0m\u001b[1;33m.\u001b[0m\u001b[0mshow\u001b[0m\u001b[1;33m(\u001b[0m\u001b[1;33m)\u001b[0m\u001b[1;33m\u001b[0m\u001b[0m\n",
      "\u001b[1;32m<ipython-input-85-81f8d9bed0a8>\u001b[0m in \u001b[0;36m<listcomp>\u001b[1;34m(.0)\u001b[0m\n\u001b[0;32m      1\u001b[0m \u001b[0myears\u001b[0m \u001b[1;33m=\u001b[0m \u001b[0mnp\u001b[0m\u001b[1;33m.\u001b[0m\u001b[0marray\u001b[0m\u001b[1;33m(\u001b[0m\u001b[1;33m[\u001b[0m\u001b[0mi\u001b[0m\u001b[1;33m.\u001b[0m\u001b[0myear\u001b[0m \u001b[1;32mfor\u001b[0m \u001b[0mi\u001b[0m \u001b[1;32min\u001b[0m \u001b[0mphoenix\u001b[0m\u001b[1;33m.\u001b[0m\u001b[0mDate\u001b[0m\u001b[1;33m]\u001b[0m\u001b[1;33m)\u001b[0m\u001b[1;33m\u001b[0m\u001b[0m\n\u001b[1;32m----> 2\u001b[1;33m \u001b[0mmonths\u001b[0m \u001b[1;33m=\u001b[0m \u001b[0mnp\u001b[0m\u001b[1;33m.\u001b[0m\u001b[0marray\u001b[0m\u001b[1;33m(\u001b[0m\u001b[1;33m[\u001b[0m\u001b[0mord\u001b[0m\u001b[1;33m(\u001b[0m\u001b[0mi\u001b[0m\u001b[1;33m.\u001b[0m\u001b[0mmonth\u001b[0m\u001b[1;33m[\u001b[0m\u001b[1;36m0\u001b[0m\u001b[1;33m]\u001b[0m\u001b[1;33m)\u001b[0m \u001b[1;32mfor\u001b[0m \u001b[0mi\u001b[0m \u001b[1;32min\u001b[0m \u001b[0mphoenix\u001b[0m\u001b[1;33m.\u001b[0m\u001b[0mDate\u001b[0m\u001b[1;33m]\u001b[0m\u001b[1;33m)\u001b[0m\u001b[1;33m\u001b[0m\u001b[0m\n\u001b[0m\u001b[0;32m      3\u001b[0m \u001b[1;33m\u001b[0m\u001b[0m\n\u001b[0;32m      4\u001b[0m \u001b[0mplt\u001b[0m\u001b[1;33m.\u001b[0m\u001b[0mscatter\u001b[0m\u001b[1;33m(\u001b[0m\u001b[0myears\u001b[0m\u001b[1;33m,\u001b[0m \u001b[0mphoenix\u001b[0m\u001b[1;33m[\u001b[0m\u001b[1;34m'NO2 Mean'\u001b[0m\u001b[1;33m]\u001b[0m\u001b[1;33m,\u001b[0m \u001b[0mcolor\u001b[0m \u001b[1;33m=\u001b[0m \u001b[0mmonths\u001b[0m\u001b[1;33m)\u001b[0m\u001b[1;33m\u001b[0m\u001b[0m\n\u001b[0;32m      5\u001b[0m \u001b[0mplt\u001b[0m\u001b[1;33m.\u001b[0m\u001b[0mshow\u001b[0m\u001b[1;33m(\u001b[0m\u001b[1;33m)\u001b[0m\u001b[1;33m\u001b[0m\u001b[0m\n",
      "\u001b[1;31mTypeError\u001b[0m: 'int' object is not subscriptable"
     ]
    }
   ],
   "source": [
    "years = np.array([i.year for i in phoenix.Date])\n",
    "months = np.array([ord(i.month[0]) for i in phoenix.Date])\n",
    "\n",
    "plt.scatter(years, phoenix['NO2 Mean'], color = months)\n",
    "plt.show()"
   ]
  },
  {
   "cell_type": "code",
   "execution_count": 74,
   "metadata": {
    "collapsed": false
   },
   "outputs": [
    {
     "data": {
      "text/plain": [
       "2000"
      ]
     },
     "execution_count": 74,
     "metadata": {},
     "output_type": "execute_result"
    }
   ],
   "source": [
    "phoenix.Date[0].year"
   ]
  },
  {
   "cell_type": "code",
   "execution_count": null,
   "metadata": {
    "collapsed": true
   },
   "outputs": [],
   "source": []
  }
 ],
 "metadata": {
  "kernelspec": {
   "display_name": "Python 3",
   "language": "python",
   "name": "python3"
  },
  "language_info": {
   "codemirror_mode": {
    "name": "ipython",
    "version": 3
   },
   "file_extension": ".py",
   "mimetype": "text/x-python",
   "name": "python",
   "nbconvert_exporter": "python",
   "pygments_lexer": "ipython3",
   "version": "3.5.1"
  }
 },
 "nbformat": 4,
 "nbformat_minor": 0
}
